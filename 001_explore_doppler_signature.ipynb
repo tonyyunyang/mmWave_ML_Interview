{
 "cells": [
  {
   "cell_type": "code",
   "execution_count": 1,
   "metadata": {},
   "outputs": [],
   "source": [
    "import numpy as np\n",
    "import math\n",
    "import os\n",
    "import cv2\n",
    "import matplotlib.pyplot as plt"
   ]
  },
  {
   "cell_type": "code",
   "execution_count": 2,
   "metadata": {},
   "outputs": [
    {
     "name": "stdout",
     "output_type": "stream",
     "text": [
      "The minimum number of frames across all files is: 409\n",
      "Value range across all files: [0.000, 1.000]\n"
     ]
    }
   ],
   "source": [
    "signatures_path = os.path.join(\"data\", \"a\")\n",
    "if not os.path.exists(signatures_path):\n",
    "    raise FileNotFoundError(f\"The directory {signatures_path} does not exist.\")\n",
    "\n",
    "min_n_frames = math.inf\n",
    "min_value = math.inf\n",
    "max_value = -math.inf\n",
    "\n",
    "# Identify the minimum number of time points across all files\n",
    "for file in os.listdir(signatures_path):\n",
    "    if not file.endswith(\".npy\"):\n",
    "        continue\n",
    "\n",
    "    np_file = np.load(os.path.join(signatures_path, file))\n",
    "    n_frames, n_freq = np_file.shape\n",
    "    min_n_frames = min(min_n_frames, n_frames)\n",
    "    min_value = min(min_value, np.min(np_file))\n",
    "    max_value = max(max_value, np.max(np_file))\n",
    "\n",
    "print(f\"The minimum number of frames across all files is: {min_n_frames}\")\n",
    "print(f\"Value range across all files: [{min_value:.3f}, {max_value:.3f}]\")\n",
    "\n",
    "# Create output directory if it doesn't exist\n",
    "output_dir = os.path.join(\"data\", \"a_fig\")\n",
    "os.makedirs(output_dir, exist_ok=True)\n",
    "\n",
    "for file in os.listdir(signatures_path):\n",
    "    if not file.endswith(\".npy\"):\n",
    "        continue\n",
    "\n",
    "    np_file = np.load(os.path.join(signatures_path, file))\n",
    "    np_file = np_file[:min_n_frames, :]\n",
    "\n",
    "    # Resize the image to 256x256\n",
    "    resized_image = cv2.resize(np_file.T, (256, 256), interpolation=cv2.INTER_LINEAR)\n",
    "    \n",
    "    output_filename = file.replace('.npy', '.png')\n",
    "    output_path = os.path.join(output_dir, output_filename)\n",
    "    \n",
    "    plt.imsave(output_path, resized_image, cmap='gray', format='png')"
   ]
  }
 ],
 "metadata": {
  "kernelspec": {
   "display_name": "torch",
   "language": "python",
   "name": "python3"
  },
  "language_info": {
   "codemirror_mode": {
    "name": "ipython",
    "version": 3
   },
   "file_extension": ".py",
   "mimetype": "text/x-python",
   "name": "python",
   "nbconvert_exporter": "python",
   "pygments_lexer": "ipython3",
   "version": "3.11.9"
  }
 },
 "nbformat": 4,
 "nbformat_minor": 2
}
