{
 "cells": [
  {
   "cell_type": "code",
   "execution_count": null,
   "metadata": {},
   "outputs": [],
   "source": [
    "import torch\n",
    "import numpy as np\n",
    "import torch.nn as nn\n",
    "from models.cnn.cnn import CNN\n",
    "from models.cvae.cvae import get_model"
   ]
  },
  {
   "cell_type": "code",
   "execution_count": null,
   "metadata": {},
   "outputs": [],
   "source": [
    "# Randomize a new sample\n",
    "new_sample = np.random.uniform(0, 1, (256, 256))\n",
    "new_sample = torch.FloatTensor(new_sample).unsqueeze(0)  # Add batch dimension"
   ]
  },
  {
   "cell_type": "code",
   "execution_count": null,
   "metadata": {},
   "outputs": [],
   "source": [
    "def predict_both(sample, cvae_model, cnn_model, kmeans, device):\n",
    "    # Cluster prediction\n",
    "    cvae_model.eval()\n",
    "    with torch.no_grad():\n",
    "        features = cvae_model(sample.to(device))\n",
    "        cluster = kmeans.predict(features.cpu().numpy())[0]\n",
    "        \n",
    "        # Identity prediction\n",
    "        identity = cnn_model(sample.to(device))\n",
    "        pred_identity = torch.argmax(identity, dim=1).item()\n",
    "    \n",
    "    return cluster, pred_identity"
   ]
  },
  {
   "cell_type": "code",
   "execution_count": null,
   "metadata": {},
   "outputs": [],
   "source": [
    "# Load CNN model\n",
    "cnn_model.load_state_dict(torch.load('cnn_model.pth'))\n",
    "\n",
    "# Make predictions\n",
    "cluster, identity = predict_both(new_sample, model, cnn_model, kmeans, device)"
   ]
  }
 ],
 "metadata": {
  "kernelspec": {
   "display_name": "torch",
   "language": "python",
   "name": "python3"
  },
  "language_info": {
   "name": "python",
   "version": "3.11.9"
  }
 },
 "nbformat": 4,
 "nbformat_minor": 2
}
