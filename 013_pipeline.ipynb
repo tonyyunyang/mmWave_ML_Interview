{
 "cells": [
  {
   "cell_type": "code",
   "execution_count": null,
   "metadata": {},
   "outputs": [],
   "source": [
    "import torch\n",
    "import numpy as np\n",
    "import torch.nn as nn\n",
    "import os\n",
    "import yaml\n",
    "import joblib\n",
    "from models.cnn.cnn import CNN\n",
    "from models.cvae.cvae import get_model\n",
    "\n",
    "device = torch.device('cuda' if torch.cuda.is_available() else 'cpu')\n"
   ]
  },
  {
   "cell_type": "code",
   "execution_count": null,
   "metadata": {},
   "outputs": [],
   "source": [
    "# Randomize a new sample\n",
    "new_sample = np.random.uniform(0, 1, (256, 256))\n",
    "new_sample = torch.FloatTensor(new_sample).unsqueeze(0)  # Add batch dimension\\"
   ]
  },
  {
   "cell_type": "code",
   "execution_count": null,
   "metadata": {},
   "outputs": [],
   "source": [
    "def inference_pipeline(sample, cvae_config, cnn_config, kmeans_model):    \n",
    "    # Initialize models\n",
    "    cvae_model = get_model(cvae_config['model_params']).to(device)\n",
    "    cnn_model = CNN(cnn_config['model_params']).to(device)\n",
    "\n",
    "    cvae_weights_path = os.path.join(cvae_config['train_params']['task_name'], cvae_config['train_params']['ckpt_name'])\n",
    "    cnn_weights_path = os.path.join(cnn_config['train_params']['task_name'], cnn_config['train_params']['ckpt_name'])\n",
    "\n",
    "    # Load pretrained weights\n",
    "    cvae_model.load_state_dict(torch.load(cvae_weights_path, map_location=device))\n",
    "    cnn_model.load_state_dict(torch.load(cnn_weights_path, map_location=device))\n",
    "    \n",
    "    # Ensure models are in eval mode\n",
    "    cvae_model.eval()\n",
    "    cnn_model.eval()\n",
    "    \n",
    "    # Add channel dimension if needed\n",
    "    if len(sample.shape) == 3:\n",
    "        sample = sample.unsqueeze(1)\n",
    "    \n",
    "    with torch.no_grad():\n",
    "        # Get activity cluster from CVAE embeddings\n",
    "        cvae_output = cvae_model(sample.to(device))\n",
    "        if isinstance(cvae_output, dict):\n",
    "            features = cvae_output['mean']  # Get latent mean vector\n",
    "        else:\n",
    "            features = cvae_output\n",
    "        activity_cluster = kmeans_model.predict(features.cpu().numpy())[0]\n",
    "        \n",
    "        # Get subject prediction from CNN\n",
    "        cnn_output = cnn_model(sample.to(device))\n",
    "        subject_idx = torch.argmax(cnn_output, dim=1).item()\n",
    "        subject_label = chr(subject_idx + ord('A'))  # Convert back to letter\n",
    "        \n",
    "    return activity_cluster, subject_label"
   ]
  },
  {
   "cell_type": "code",
   "execution_count": null,
   "metadata": {},
   "outputs": [],
   "source": [
    "cvae_config = yaml.load(open('config/config.yaml', 'r'), Loader=yaml.FullLoader)\n",
    "cnn_config = yaml.load(open('config/cnn_config.yaml', 'r'), Loader=yaml.FullLoader)\n",
    "kmeans_model = joblib.load(os.path.join(cvae_config['train_params']['task_name'], 'kmeans.joblib'))"
   ]
  }
 ],
 "metadata": {
  "kernelspec": {
   "display_name": "torch",
   "language": "python",
   "name": "python3"
  },
  "language_info": {
   "name": "python",
   "version": "3.11.9"
  }
 },
 "nbformat": 4,
 "nbformat_minor": 2
}
