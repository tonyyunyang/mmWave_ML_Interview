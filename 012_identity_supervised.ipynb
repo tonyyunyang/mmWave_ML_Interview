{
 "cells": [
  {
   "cell_type": "code",
   "execution_count": 1,
   "metadata": {},
   "outputs": [],
   "source": [
    "import torch\n",
    "from modules.clustering_utils import process_images\n",
    "from torch.utils.data import DataLoader\n",
    "from models.cnn.cnn import CNN\n",
    "from models.cnn.train_cnn import train\n",
    "import os\n",
    "import cv2\n",
    "import shutil\n",
    "import numpy as np\n",
    "from modules.dataset import IdentityDataset\n",
    "import yaml\n",
    "import random\n",
    "from collections import defaultdict\n",
    "\n",
    "device = torch.device('cuda' if torch.cuda.is_available() else 'cpu')\n"
   ]
  },
  {
   "cell_type": "code",
   "execution_count": null,
   "metadata": {},
   "outputs": [],
   "source": [
    "with open(\"config/cnn_config.yaml\", \"r\") as f:\n",
    "    try:\n",
    "        config = yaml.safe_load(f)\n",
    "    except yaml.YAMLError as exc:\n",
    "        print(exc)\n",
    "print(config)\n",
    "\n",
    "seed = config['train_params']['seed']\n",
    "torch.manual_seed(seed)\n",
    "np.random.seed(seed)\n",
    "random.seed(seed)\n",
    "if device == 'cuda':\n",
    "    torch.cuda.manual_seed_all(seed)"
   ]
  },
  {
   "cell_type": "code",
   "execution_count": null,
   "metadata": {},
   "outputs": [],
   "source": [
    "data_path = \"data/b_sig_fig\"\n",
    "\n",
    "images, labels = process_images(data_path)\n",
    "\n",
    "print(images.shape, labels.shape)\n",
    "\n",
    "dataset = IdentityDataset(images, labels)\n",
    "train_loader = DataLoader(dataset, batch_size=config['train_params']['batch_size'], shuffle=True)\n",
    "\n",
    "model = CNN(config['model_params']).to(device)"
   ]
  },
  {
   "cell_type": "code",
   "execution_count": null,
   "metadata": {},
   "outputs": [],
   "source": [
    "\n",
    "torch.manual_seed(config['train_params']['seed'])\n",
    "train(model, train_loader, config, device)"
   ]
  }
 ],
 "metadata": {
  "kernelspec": {
   "display_name": "torch",
   "language": "python",
   "name": "python3"
  },
  "language_info": {
   "codemirror_mode": {
    "name": "ipython",
    "version": 3
   },
   "file_extension": ".py",
   "mimetype": "text/x-python",
   "name": "python",
   "nbconvert_exporter": "python",
   "pygments_lexer": "ipython3",
   "version": "3.11.9"
  }
 },
 "nbformat": 4,
 "nbformat_minor": 2
}
