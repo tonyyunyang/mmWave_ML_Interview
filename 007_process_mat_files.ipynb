{
 "cells": [
  {
   "cell_type": "code",
   "execution_count": 1,
   "metadata": {},
   "outputs": [],
   "source": [
    "import os\n",
    "import numpy as np\n",
    "from scipy import io\n",
    "\n",
    "def process_mat_files(base_input_path, base_output_path):\n",
    "\n",
    "    os.makedirs(base_output_path, exist_ok=True)\n",
    "    \n",
    "    for subject_folder in ['SUBJECTA', 'SUBJECTB', 'SUBJECTC']:\n",
    "        input_path = os.path.join(base_input_path, subject_folder)\n",
    "        \n",
    "        if not os.path.exists(input_path):\n",
    "            print(f\"Skipping {subject_folder} - folder not found\")\n",
    "            continue\n",
    "            \n",
    "        mat_files = sorted([f for f in os.listdir(input_path) if f.endswith('.mat')])\n",
    "        \n",
    "        for mat_file in mat_files:\n",
    "            try:\n",
    "                file_path = os.path.join(input_path, mat_file)\n",
    "                mat_data = io.loadmat(file_path)\n",
    "                \n",
    "                frames = mat_data['FRAMES']\n",
    "                data = frames[0, 0][0]  # Get the actual data\n",
    "                reshaped_data = np.squeeze(data, axis=0)  # Remove the first dimension\n",
    "                # reshaped_data = reshaped_data.transpose()\n",
    "                \n",
    "                number = mat_file[1:-4]\n",
    "                subject_letter = subject_folder[-1]\n",
    "                output_filename = f\"{subject_letter}_{number}.npy\"\n",
    "                \n",
    "                output_path = os.path.join(base_output_path, output_filename)\n",
    "                np.save(output_path, reshaped_data)\n",
    "                \n",
    "                print(f\"Processed {mat_file} -> {output_filename}\")\n",
    "                \n",
    "            except Exception as e:\n",
    "                print(f\"Error processing {mat_file}: {str(e)}\")"
   ]
  },
  {
   "cell_type": "code",
   "execution_count": 2,
   "metadata": {},
   "outputs": [
    {
     "name": "stdout",
     "output_type": "stream",
     "text": [
      "Processed A0.mat -> A_0.npy\n",
      "Processed A1.mat -> A_1.npy\n",
      "Processed A10.mat -> A_10.npy\n",
      "Processed A11.mat -> A_11.npy\n",
      "Processed A2.mat -> A_2.npy\n",
      "Processed A3.mat -> A_3.npy\n",
      "Processed A4.mat -> A_4.npy\n",
      "Processed A5.mat -> A_5.npy\n",
      "Processed A6.mat -> A_6.npy\n",
      "Processed A7.mat -> A_7.npy\n",
      "Processed A8.mat -> A_8.npy\n",
      "Processed A9.mat -> A_9.npy\n",
      "Processed B0.mat -> B_0.npy\n",
      "Processed B1.mat -> B_1.npy\n",
      "Processed B10.mat -> B_10.npy\n",
      "Processed B11.mat -> B_11.npy\n",
      "Processed B2.mat -> B_2.npy\n",
      "Processed B3.mat -> B_3.npy\n",
      "Processed B4.mat -> B_4.npy\n",
      "Processed B5.mat -> B_5.npy\n",
      "Processed B6.mat -> B_6.npy\n",
      "Processed B7.mat -> B_7.npy\n",
      "Processed B8.mat -> B_8.npy\n",
      "Processed B9.mat -> B_9.npy\n",
      "Processed C0.mat -> C_0.npy\n",
      "Processed C1.mat -> C_1.npy\n",
      "Processed C10.mat -> C_10.npy\n",
      "Processed C11.mat -> C_11.npy\n",
      "Processed C2.mat -> C_2.npy\n",
      "Processed C3.mat -> C_3.npy\n",
      "Processed C4.mat -> C_4.npy\n",
      "Processed C5.mat -> C_5.npy\n",
      "Processed C6.mat -> C_6.npy\n",
      "Processed C7.mat -> C_7.npy\n",
      "Processed C8.mat -> C_8.npy\n",
      "Processed C9.mat -> C_9.npy\n"
     ]
    }
   ],
   "source": [
    "base_input_path = \"data/b\"\n",
    "base_output_path = \"data/b_np\"\n",
    "process_mat_files(base_input_path, base_output_path)"
   ]
  }
 ],
 "metadata": {
  "kernelspec": {
   "display_name": "torch",
   "language": "python",
   "name": "python3"
  },
  "language_info": {
   "codemirror_mode": {
    "name": "ipython",
    "version": 3
   },
   "file_extension": ".py",
   "mimetype": "text/x-python",
   "name": "python",
   "nbconvert_exporter": "python",
   "pygments_lexer": "ipython3",
   "version": "3.11.9"
  }
 },
 "nbformat": 4,
 "nbformat_minor": 2
}
