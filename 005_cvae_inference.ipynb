{
 "cells": [
  {
   "cell_type": "code",
   "execution_count": 1,
   "metadata": {},
   "outputs": [],
   "source": [
    "import torch\n",
    "from torch.utils.data import DataLoader\n",
    "from models.cvae.feature_extraction import extract_features\n",
    "from models.cvae.cvae import get_model\n",
    "import os\n",
    "import cv2\n",
    "import shutil\n",
    "import numpy as np\n",
    "from modules.dataset import SignatureFigDataset\n",
    "import yaml\n",
    "import random\n",
    "from modules.clustering_utils import find_optimal_clusters, plot_results, analyze_clusters\n",
    "from collections import defaultdict\n",
    "from sklearn.decomposition import PCA\n",
    "from sklearn.cluster import KMeans\n",
    "\n",
    "device = torch.device('cuda' if torch.cuda.is_available() else 'cpu')\n"
   ]
  },
  {
   "cell_type": "code",
   "execution_count": 2,
   "metadata": {},
   "outputs": [
    {
     "name": "stdout",
     "output_type": "stream",
     "text": [
      "{'model_params': {'in_channels': 1, 'convbn_blocks': 5, 'conv_kernel_size': [4, 4, 4, 4, 4], 'conv_kernel_strides': [2, 2, 2, 2, 2], 'conv_padding': [1, 1, 1, 1, 1], 'convbn_channels': [1, 32, 64, 128, 256, 512], 'enc_fc_layers': [32768, 4096, 512, 64, 16], 'enc_fc_mu_activation': 'leaky', 'enc_fc_var_activation': 'leaky', 'conv_activation_fn': 'leaky', 'enc_fc_activation_fn': 'leaky', 'dec_fc_layers': [16, 64, 512, 4096, 32768], 'dec_fc_activation_fn': 'leaky', 'transpose_bn_blocks': 5, 'transposebn_channels': [512, 256, 128, 64, 32, 1], 'transpose_kernel_size': [4, 4, 4, 4, 4], 'transpose_kernel_strides': [2, 2, 2, 2, 2], 'transpose_padding': [1, 1, 1, 1, 1], 'transpose_activation_fn': 'tanh', 'log_variance': True, 'latent_dim': 16}, 'train_params': {'task_name': 'cvae_feature_extraction', 'batch_size': 8, 'epochs': 1000, 'kl_weight': 1e-05, 'lr': 0.0001, 'crit': 'l2', 'ckpt_name': 'best_cvae.pth', 'seed': 42, 'save_training_image': True, 'output_train_dir': 'output', 'save_latent_plot': True}}\n"
     ]
    }
   ],
   "source": [
    "with open(\"config/config.yaml\", \"r\") as f:\n",
    "    try:\n",
    "        config = yaml.safe_load(f)\n",
    "    except yaml.YAMLError as exc:\n",
    "        print(exc)\n",
    "print(config)\n",
    "\n",
    "seed = config['train_params']['seed']\n",
    "torch.manual_seed(seed)\n",
    "np.random.seed(seed)\n",
    "random.seed(seed)\n",
    "if device == 'cuda':\n",
    "    torch.cuda.manual_seed_all(seed)"
   ]
  },
  {
   "cell_type": "code",
   "execution_count": 3,
   "metadata": {},
   "outputs": [],
   "source": [
    "# Data\n",
    "signatures_fig_path = os.path.join(\"data\", \"a_fig\")\n",
    "\n",
    "if not os.path.exists(signatures_fig_path):\n",
    "    raise FileNotFoundError(f\"The directory {signatures_fig_path} does not exist.\")\n",
    "\n",
    "signature_figs = []\n",
    "filenames = []  # New list to store filenames\n",
    "for signature_fig_file in os.listdir(signatures_fig_path):\n",
    "    # Store filename without extension\n",
    "    filenames.append(os.path.splitext(signature_fig_file)[0])\n",
    "\n",
    "    signature_fig_file_path = os.path.join(signatures_fig_path, signature_fig_file)\n",
    "    signature_fig = cv2.imread(signature_fig_file_path, cv2.IMREAD_GRAYSCALE)\n",
    "    signature_fig = signature_fig.reshape(1, *signature_fig.shape, 1)\n",
    "    signature_figs.append(signature_fig)\n",
    "\n",
    "signature_figs = np.concatenate(signature_figs, axis=0) # (N, H, W, C)\n",
    "\n",
    "signature_fig_dataset = SignatureFigDataset(signature_figs, filenames)\n",
    "\n",
    "dataloader = DataLoader(signature_fig_dataset, batch_size=config['train_params']['batch_size'], shuffle=True)\n",
    "\n",
    "model = get_model(config).to(device)"
   ]
  },
  {
   "cell_type": "code",
   "execution_count": 4,
   "metadata": {},
   "outputs": [
    {
     "ename": "FileNotFoundError",
     "evalue": "[Errno 2] No such file or directory: 'cvae_feature_extraction/best_cvae.pth'",
     "output_type": "error",
     "traceback": [
      "\u001b[0;31m---------------------------------------------------------------------------\u001b[0m",
      "\u001b[0;31mFileNotFoundError\u001b[0m                         Traceback (most recent call last)",
      "Cell \u001b[0;32mIn[4], line 4\u001b[0m\n\u001b[1;32m      1\u001b[0m model_path \u001b[38;5;241m=\u001b[39m os\u001b[38;5;241m.\u001b[39mpath\u001b[38;5;241m.\u001b[39mjoin(config[\u001b[38;5;124m'\u001b[39m\u001b[38;5;124mtrain_params\u001b[39m\u001b[38;5;124m'\u001b[39m][\u001b[38;5;124m'\u001b[39m\u001b[38;5;124mtask_name\u001b[39m\u001b[38;5;124m'\u001b[39m], config[\u001b[38;5;124m'\u001b[39m\u001b[38;5;124mtrain_params\u001b[39m\u001b[38;5;124m'\u001b[39m][\u001b[38;5;124m'\u001b[39m\u001b[38;5;124mckpt_name\u001b[39m\u001b[38;5;124m'\u001b[39m])\n\u001b[1;32m      3\u001b[0m model \u001b[38;5;241m=\u001b[39m get_model(config)\u001b[38;5;241m.\u001b[39mto(device)\n\u001b[0;32m----> 4\u001b[0m model\u001b[38;5;241m.\u001b[39mload_state_dict(torch\u001b[38;5;241m.\u001b[39mload(model_path))\n\u001b[1;32m      6\u001b[0m features, filenames \u001b[38;5;241m=\u001b[39m extract_features(model, dataloader, device)\n\u001b[1;32m      8\u001b[0m max_clusters \u001b[38;5;241m=\u001b[39m \u001b[38;5;241m10\u001b[39m\n",
      "File \u001b[0;32m/opt/anaconda3/envs/torch/lib/python3.11/site-packages/torch/serialization.py:997\u001b[0m, in \u001b[0;36mload\u001b[0;34m(f, map_location, pickle_module, weights_only, mmap, **pickle_load_args)\u001b[0m\n\u001b[1;32m    994\u001b[0m \u001b[38;5;28;01mif\u001b[39;00m \u001b[38;5;124m'\u001b[39m\u001b[38;5;124mencoding\u001b[39m\u001b[38;5;124m'\u001b[39m \u001b[38;5;129;01mnot\u001b[39;00m \u001b[38;5;129;01min\u001b[39;00m pickle_load_args\u001b[38;5;241m.\u001b[39mkeys():\n\u001b[1;32m    995\u001b[0m     pickle_load_args[\u001b[38;5;124m'\u001b[39m\u001b[38;5;124mencoding\u001b[39m\u001b[38;5;124m'\u001b[39m] \u001b[38;5;241m=\u001b[39m \u001b[38;5;124m'\u001b[39m\u001b[38;5;124mutf-8\u001b[39m\u001b[38;5;124m'\u001b[39m\n\u001b[0;32m--> 997\u001b[0m \u001b[38;5;28;01mwith\u001b[39;00m _open_file_like(f, \u001b[38;5;124m'\u001b[39m\u001b[38;5;124mrb\u001b[39m\u001b[38;5;124m'\u001b[39m) \u001b[38;5;28;01mas\u001b[39;00m opened_file:\n\u001b[1;32m    998\u001b[0m     \u001b[38;5;28;01mif\u001b[39;00m _is_zipfile(opened_file):\n\u001b[1;32m    999\u001b[0m         \u001b[38;5;66;03m# The zipfile reader is going to advance the current file position.\u001b[39;00m\n\u001b[1;32m   1000\u001b[0m         \u001b[38;5;66;03m# If we want to actually tail call to torch.jit.load, we need to\u001b[39;00m\n\u001b[1;32m   1001\u001b[0m         \u001b[38;5;66;03m# reset back to the original position.\u001b[39;00m\n\u001b[1;32m   1002\u001b[0m         orig_position \u001b[38;5;241m=\u001b[39m opened_file\u001b[38;5;241m.\u001b[39mtell()\n",
      "File \u001b[0;32m/opt/anaconda3/envs/torch/lib/python3.11/site-packages/torch/serialization.py:444\u001b[0m, in \u001b[0;36m_open_file_like\u001b[0;34m(name_or_buffer, mode)\u001b[0m\n\u001b[1;32m    442\u001b[0m \u001b[38;5;28;01mdef\u001b[39;00m \u001b[38;5;21m_open_file_like\u001b[39m(name_or_buffer, mode):\n\u001b[1;32m    443\u001b[0m     \u001b[38;5;28;01mif\u001b[39;00m _is_path(name_or_buffer):\n\u001b[0;32m--> 444\u001b[0m         \u001b[38;5;28;01mreturn\u001b[39;00m _open_file(name_or_buffer, mode)\n\u001b[1;32m    445\u001b[0m     \u001b[38;5;28;01melse\u001b[39;00m:\n\u001b[1;32m    446\u001b[0m         \u001b[38;5;28;01mif\u001b[39;00m \u001b[38;5;124m'\u001b[39m\u001b[38;5;124mw\u001b[39m\u001b[38;5;124m'\u001b[39m \u001b[38;5;129;01min\u001b[39;00m mode:\n",
      "File \u001b[0;32m/opt/anaconda3/envs/torch/lib/python3.11/site-packages/torch/serialization.py:425\u001b[0m, in \u001b[0;36m_open_file.__init__\u001b[0;34m(self, name, mode)\u001b[0m\n\u001b[1;32m    424\u001b[0m \u001b[38;5;28;01mdef\u001b[39;00m \u001b[38;5;21m__init__\u001b[39m(\u001b[38;5;28mself\u001b[39m, name, mode):\n\u001b[0;32m--> 425\u001b[0m     \u001b[38;5;28msuper\u001b[39m()\u001b[38;5;241m.\u001b[39m\u001b[38;5;21m__init__\u001b[39m(\u001b[38;5;28mopen\u001b[39m(name, mode))\n",
      "\u001b[0;31mFileNotFoundError\u001b[0m: [Errno 2] No such file or directory: 'cvae_feature_extraction/best_cvae.pth'"
     ]
    }
   ],
   "source": [
    "model_path = os.path.join(config['train_params']['task_name'], config['train_params']['ckpt_name'])\n",
    "\n",
    "model = get_model(config).to(device)\n",
    "model.load_state_dict(torch.load(model_path))\n",
    "\n",
    "features, filenames = extract_features(model, dataloader, device)\n",
    "\n",
    "max_clusters = 10\n",
    "optimal_n_clusters, silhouette_scores = find_optimal_clusters(features, max_clusters)\n",
    "print(f\"\\nOptimal number of clusters: {optimal_n_clusters}\")\n",
    "\n",
    "kmeans = KMeans(n_clusters=optimal_n_clusters, random_state=42)\n",
    "cluster_labels = kmeans.fit_predict(features)\n",
    "\n",
    "# Create cluster mapping\n",
    "clusters = defaultdict(list)\n",
    "for filename, label in zip(filenames, cluster_labels):\n",
    "    clusters[int(label)].append(filename)\n",
    "\n",
    "# Reduce dimensionality for visualization\n",
    "pca = PCA(n_components=2)\n",
    "features_2d = pca.fit_transform(features)\n",
    "\n",
    "plot_results(features_2d, cluster_labels, silhouette_scores, \n",
    "            'K-means Clustering of CVAE Features', \n",
    "            'Silhouette', start_n_clusters=2)\n",
    "\n",
    "# Print cluster analysis\n",
    "analyze_clusters(clusters)\n"
   ]
  },
  {
   "cell_type": "code",
   "execution_count": null,
   "metadata": {},
   "outputs": [],
   "source": [
    "# Create main cluster directory\n",
    "cluster_base_dir = os.path.join(\"data\", \"a_cluster\")\n",
    "source_dir = os.path.join(\"data\", \"a\")\n",
    "\n",
    "# Create base directory if it doesn't exist\n",
    "os.makedirs(cluster_base_dir, exist_ok=True)\n",
    "\n",
    "# Create cluster subdirectories and copy files\n",
    "for cluster_id, filenames in clusters.items():\n",
    "    # Create cluster subdirectory\n",
    "    cluster_dir = os.path.join(cluster_base_dir, f\"cluster_{cluster_id}\")\n",
    "    os.makedirs(cluster_dir, exist_ok=True)\n",
    "    \n",
    "    # Copy files to respective cluster directories\n",
    "    for filename in filenames:\n",
    "        source_file = os.path.join(source_dir, f\"{filename}.npy\")\n",
    "        dest_file = os.path.join(cluster_dir, f\"{filename}.npy\")\n",
    "        shutil.copy2(source_file, dest_file)\n",
    "\n",
    "print(f\"Files have been organized into clusters in {cluster_base_dir}\")"
   ]
  }
 ],
 "metadata": {
  "kernelspec": {
   "display_name": "torch",
   "language": "python",
   "name": "python3"
  },
  "language_info": {
   "codemirror_mode": {
    "name": "ipython",
    "version": 3
   },
   "file_extension": ".py",
   "mimetype": "text/x-python",
   "name": "python",
   "nbconvert_exporter": "python",
   "pygments_lexer": "ipython3",
   "version": "3.11.9"
  }
 },
 "nbformat": 4,
 "nbformat_minor": 2
}
