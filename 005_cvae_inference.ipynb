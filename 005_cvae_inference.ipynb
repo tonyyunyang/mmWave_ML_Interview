{
 "cells": [
  {
   "cell_type": "code",
   "execution_count": null,
   "metadata": {},
   "outputs": [],
   "source": [
    "import torch\n",
    "from torch.utils.data import DataLoader\n",
    "from models.cvae.feature_extraction import extract_features\n",
    "from models.cvae.cvae import get_model\n",
    "import os\n",
    "import cv2\n",
    "import numpy as np\n",
    "from modules.dataset import SignatureFigDataset\n",
    "import yaml\n",
    "import random\n",
    "from modules.clustering_utils import find_optimal_clusters, plot_results, analyze_clusters\n",
    "from collections import defaultdict\n",
    "from sklearn.decomposition import PCA\n",
    "from sklearn.cluster import KMeans\n",
    "\n",
    "device = torch.device('cuda' if torch.cuda.is_available() else 'cpu')\n"
   ]
  },
  {
   "cell_type": "code",
   "execution_count": null,
   "metadata": {},
   "outputs": [],
   "source": [
    "with open(\"config/config.yaml\", \"r\") as f:\n",
    "    try:\n",
    "        config = yaml.safe_load(f)\n",
    "    except yaml.YAMLError as exc:\n",
    "        print(exc)\n",
    "print(config)\n",
    "\n",
    "seed = config['train_params']['seed']\n",
    "torch.manual_seed(seed)\n",
    "np.random.seed(seed)\n",
    "random.seed(seed)\n",
    "if device == 'cuda':\n",
    "    torch.cuda.manual_seed_all(seed)"
   ]
  },
  {
   "cell_type": "code",
   "execution_count": null,
   "metadata": {},
   "outputs": [],
   "source": [
    "# Data\n",
    "signatures_fig_path = os.path.join(\"data\", \"a_fig\")\n",
    "\n",
    "if not os.path.exists(signatures_fig_path):\n",
    "    raise FileNotFoundError(f\"The directory {signatures_fig_path} does not exist.\")\n",
    "\n",
    "signature_figs = []\n",
    "filenames = []  # New list to store filenames\n",
    "for signature_fig_file in os.listdir(signatures_fig_path):\n",
    "    # Store filename without extension\n",
    "    filenames.append(os.path.splitext(signature_fig_file)[0])\n",
    "\n",
    "    signature_fig_file_path = os.path.join(signatures_fig_path, signature_fig_file)\n",
    "    signature_fig = cv2.imread(signature_fig_file_path, cv2.IMREAD_GRAYSCALE)\n",
    "    signature_fig = signature_fig.reshape(1, *signature_fig.shape, 1)\n",
    "    signature_figs.append(signature_fig)\n",
    "\n",
    "signature_figs = np.concatenate(signature_figs, axis=0) # (N, H, W, C)\n",
    "\n",
    "signature_fig_dataset = SignatureFigDataset(signature_figs, filenames)\n",
    "\n",
    "dataloader = DataLoader(signature_fig_dataset, batch_size=config['train_params']['batch_size'], shuffle=True)\n",
    "\n",
    "model = get_model(config).to(device)"
   ]
  },
  {
   "cell_type": "code",
   "execution_count": null,
   "metadata": {},
   "outputs": [],
   "source": [
    "model_path = os.path.join(config['train_params']['task_name'], config['train_params']['ckpt_name'])\n",
    "\n",
    "model = get_model(config).to(device)\n",
    "model.load_state_dict(torch.load(model_path))\n",
    "\n",
    "features, filenames = extract_features(model, dataloader, device)\n",
    "\n",
    "max_clusters = 10\n",
    "optimal_n_clusters, silhouette_scores = find_optimal_clusters(features, max_clusters)\n",
    "print(f\"\\nOptimal number of clusters: {optimal_n_clusters}\")\n",
    "\n",
    "kmeans = KMeans(n_clusters=optimal_n_clusters, random_state=42)\n",
    "cluster_labels = kmeans.fit_predict(features)\n",
    "\n",
    "# Create cluster mapping\n",
    "clusters = defaultdict(list)\n",
    "for filename, label in zip(filenames, cluster_labels):\n",
    "    clusters[int(label)].append(filename)\n",
    "\n",
    "# Reduce dimensionality for visualization\n",
    "pca = PCA(n_components=2)\n",
    "features_2d = pca.fit_transform(features)\n",
    "\n",
    "plot_results(features_2d, cluster_labels, silhouette_scores, \n",
    "            'K-means Clustering of CVAE Features', \n",
    "            'Silhouette', start_n_clusters=2)\n",
    "\n",
    "# Print cluster analysis\n",
    "analyze_clusters(clusters)\n"
   ]
  }
 ],
 "metadata": {
  "kernelspec": {
   "display_name": "torch",
   "language": "python",
   "name": "python3"
  },
  "language_info": {
   "name": "python",
   "version": "3.11.9"
  }
 },
 "nbformat": 4,
 "nbformat_minor": 2
}
