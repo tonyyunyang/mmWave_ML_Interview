{
 "cells": [
  {
   "cell_type": "code",
   "execution_count": 1,
   "metadata": {},
   "outputs": [],
   "source": [
    "import numpy as np\n",
    "import os\n",
    "import cv2\n",
    "import random\n",
    "import torch\n",
    "import yaml\n",
    "import math\n",
    "import shutil\n",
    "from torch.optim import Adam\n",
    "from torch.optim.lr_scheduler import ReduceLROnPlateau\n",
    "from modules.dataset import SignatureFigDataset\n",
    "from torch.utils.data import DataLoader\n",
    "from models.cvae.cvae import get_model\n",
    "from models.cvae.train_cvae import train_for_one_epoch, visualize_latent_space\n",
    "\n",
    "device = torch.device('cuda' if torch.cuda.is_available() else 'cpu')\n"
   ]
  },
  {
   "cell_type": "code",
   "execution_count": null,
   "metadata": {},
   "outputs": [],
   "source": [
    "with open(\"config/config.yaml\", \"r\") as f:\n",
    "    try:\n",
    "        config = yaml.safe_load(f)\n",
    "    except yaml.YAMLError as exc:\n",
    "        print(exc)\n",
    "print(config)\n",
    "\n",
    "seed = config['train_params']['seed']\n",
    "torch.manual_seed(seed)\n",
    "np.random.seed(seed)\n",
    "random.seed(seed)\n",
    "if device == 'cuda':\n",
    "    torch.cuda.manual_seed_all(seed)"
   ]
  },
  {
   "cell_type": "code",
   "execution_count": 2,
   "metadata": {},
   "outputs": [],
   "source": [
    "signatures_fig_path = os.path.join(\"data\", \"a_fig\")\n",
    "\n",
    "if not os.path.exists(signatures_fig_path):\n",
    "    raise FileNotFoundError(f\"The directory {signatures_fig_path} does not exist.\")\n",
    "\n",
    "signature_figs = []\n",
    "for signature_fig_file in os.listdir(signatures_fig_path):\n",
    "    signature_fig_file_path = os.path.join(signatures_fig_path, signature_fig_file)\n",
    "    signature_fig = cv2.imread(signature_fig_file_path, cv2.IMREAD_GRAYSCALE)\n",
    "    signature_fig = signature_fig.reshape(1, *signature_fig.shape, 1)\n",
    "    signature_figs.append(signature_fig)\n",
    "\n",
    "signature_figs = np.concatenate(signature_figs, axis=0) # (N, H, W, C)\n",
    "\n",
    "signature_fig_dataset = SignatureFigDataset(signature_figs)\n",
    "\n",
    "train_dataloader = DataLoader(signature_fig_dataset, batch_size=config['train_params']['batch_size'], shuffle=True)\n",
    "\n",
    "model = get_model(config).to(device)\n",
    "\n",
    "num_epochs = config['train_params']['epochs']\n",
    "optimizer = Adam(model.parameters(), lr=config['train_params']['lr'])\n",
    "scheduler = ReduceLROnPlateau(optimizer, factor=0.5, patience=1, verbose=True)\n",
    "criterion = {\n",
    "    'l1': torch.nn.L1Loss(),\n",
    "    'l2': torch.nn.MSELoss()\n",
    "}.get(config['train_params']['crit'])"
   ]
  },
  {
   "cell_type": "code",
   "execution_count": null,
   "metadata": {},
   "outputs": [],
   "source": [
    "# Create output directories\n",
    "if os.path.exists(config['train_params']['task_name']):\n",
    "    shutil.rmtree(config['train_params']['task_name'])\n",
    "os.mkdir(config['train_params']['task_name'])\n",
    "os.mkdir(os.path.join(config['train_params']['task_name'], config['train_params']['output_train_dir']))\n",
    "\n",
    "best_loss = math.inf\n",
    "latent_im_path = os.path.join(config['train_params']['task_name'],\n",
    "                                config['train_params']['output_train_dir'],\n",
    "                                'latent_epoch_{}.jpeg')\n",
    "with torch.no_grad():\n",
    "    model.eval()\n",
    "    visualize_latent_space(config, model, train_dataloader, save_fig_path=latent_im_path.format(0), device=device)\n",
    "    model.train()\n",
    "for epoch_idx in range(num_epochs):\n",
    "    mean_loss = train_for_one_epoch(epoch_idx, model, train_dataloader, optimizer, criterion, config, device)\n",
    "    if config['train_params']['save_latent_plot']:\n",
    "        model.eval()\n",
    "        with torch.no_grad():\n",
    "            print('Generating latent plot on test set')\n",
    "            visualize_latent_space(config, model, train_dataloader, save_fig_path=latent_im_path.format(epoch_idx + 1), device=device)\n",
    "        model.train()\n",
    "    scheduler.step(mean_loss)\n",
    "    # Simply update checkpoint if found better version\n",
    "    if mean_loss < best_loss:\n",
    "        print('Improved Loss to {:.4f} .... Saving Model'.format(mean_loss))\n",
    "        torch.save(model.state_dict(), os.path.join(config['train_params']['task_name'],\n",
    "                                                    config['train_params']['ckpt_name']))\n",
    "        best_loss = mean_loss\n",
    "    else:\n",
    "        print('No Loss Improvement')"
   ]
  }
 ],
 "metadata": {
  "kernelspec": {
   "display_name": "torch",
   "language": "python",
   "name": "python3"
  },
  "language_info": {
   "codemirror_mode": {
    "name": "ipython",
    "version": 3
   },
   "file_extension": ".py",
   "mimetype": "text/x-python",
   "name": "python",
   "nbconvert_exporter": "python",
   "pygments_lexer": "ipython3",
   "version": "3.11.9"
  }
 },
 "nbformat": 4,
 "nbformat_minor": 2
}
