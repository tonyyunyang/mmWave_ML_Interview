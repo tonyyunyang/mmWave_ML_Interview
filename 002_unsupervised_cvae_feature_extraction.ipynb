{
 "cells": [
  {
   "cell_type": "code",
   "execution_count": 1,
   "metadata": {},
   "outputs": [],
   "source": [
    "import numpy as np\n",
    "import os\n",
    "import cv2\n",
    "import matplotlib.pyplot as plt"
   ]
  },
  {
   "cell_type": "code",
   "execution_count": null,
   "metadata": {},
   "outputs": [],
   "source": [
    "signatures_fig_path = os.path.join(\"data\", \"a_fig\")\n",
    "\n",
    "if not os.path.exists(signatures_fig_path):\n",
    "    raise FileNotFoundError(f\"The directory {signatures_fig_path} does not exist.\")\n",
    "\n",
    "signature_figs = []\n",
    "for signature_fig_file in os.listdir(signatures_fig_path):\n",
    "    signature_fig_file_path = os.path.join(signatures_fig_path, signature_fig_file)\n",
    "    signature_fig = cv2.imread(signature_fig_file_path, cv2.IMREAD_GRAYSCALE)\n",
    "    signature_fig = signature_fig.reshape(1, *signature_fig.shape, 1)\n",
    "    signature_figs.append(signature_fig)\n",
    "\n",
    "signature_figs = np.concatenate(signature_figs, axis=0) # (N, H, W, C)\n",
    "\n"
   ]
  }
 ],
 "metadata": {
  "kernelspec": {
   "display_name": "torch",
   "language": "python",
   "name": "python3"
  },
  "language_info": {
   "codemirror_mode": {
    "name": "ipython",
    "version": 3
   },
   "file_extension": ".py",
   "mimetype": "text/x-python",
   "name": "python",
   "nbconvert_exporter": "python",
   "pygments_lexer": "ipython3",
   "version": "3.11.9"
  }
 },
 "nbformat": 4,
 "nbformat_minor": 2
}
